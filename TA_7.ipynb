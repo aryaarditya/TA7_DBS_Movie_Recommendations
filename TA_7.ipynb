{
  "nbformat": 4,
  "nbformat_minor": 0,
  "metadata": {
    "colab": {
      "provenance": []
    },
    "kernelspec": {
      "name": "python3",
      "display_name": "Python 3"
    },
    "language_info": {
      "name": "python"
    }
  },
  "cells": [
    {
      "cell_type": "markdown",
      "source": [
        "# 1. Project Overview\n",
        "\n",
        " Sistem rekomendasi ini dibuat untuk membantu pengguna menemukan film sesuai minat mereka menggunakan dataset MovieLens 100K. Dua pendekatan utama digunakan: Content-based Filtering (berbasis kemiripan genre film) dan Collaborative Filtering (berbasis pola rating pengguna). Proyek ini mencakup pemuatan data, eksplorasi, modeling, dan evaluasi."
      ],
      "metadata": {
        "id": "sC1XzGapAs0L"
      }
    },
    {
      "cell_type": "markdown",
      "source": [
        "# 2. Import Library\n",
        "Pada tahap ini, kita mengimpor library yang dibutuhkan seperti pandas dan numpy untuk manipulasi data, matplotlib dan seaborn untuk visualisasi, serta sklearn untuk pemrosesan data dan evaluasi model. Selain itu, digunakan library lightfm untuk membangun model collaborative filtering."
      ],
      "metadata": {
        "id": "M_gJI-YfBIVO"
      }
    },
    {
      "cell_type": "code",
      "execution_count": 2,
      "metadata": {
        "colab": {
          "base_uri": "https://localhost:8080/"
        },
        "id": "-l0jatiyAnFB",
        "outputId": "f42c9694-2d00-4be0-b3dc-f868a8a36d21"
      },
      "outputs": [
        {
          "output_type": "stream",
          "name": "stdout",
          "text": [
            "Collecting lightfm\n",
            "  Downloading lightfm-1.17.tar.gz (316 kB)\n",
            "\u001b[?25l     \u001b[90m━━━━━━━━━━━━━━━━━━━━━━━━━━━━━━━━━━━━━━━━\u001b[0m \u001b[32m0.0/316.4 kB\u001b[0m \u001b[31m?\u001b[0m eta \u001b[36m-:--:--\u001b[0m\r\u001b[2K     \u001b[91m━━━━━━━━━━━\u001b[0m\u001b[91m╸\u001b[0m\u001b[90m━━━━━━━━━━━━━━━━━━━━━━━━━━━━\u001b[0m \u001b[32m92.2/316.4 kB\u001b[0m \u001b[31m2.9 MB/s\u001b[0m eta \u001b[36m0:00:01\u001b[0m\r\u001b[2K     \u001b[90m━━━━━━━━━━━━━━━━━━━━━━━━━━━━━━━━━━━━━━━\u001b[0m \u001b[32m316.4/316.4 kB\u001b[0m \u001b[31m5.2 MB/s\u001b[0m eta \u001b[36m0:00:00\u001b[0m\n",
            "\u001b[?25h  Preparing metadata (setup.py) ... \u001b[?25l\u001b[?25hdone\n",
            "Requirement already satisfied: numpy in /usr/local/lib/python3.11/dist-packages (from lightfm) (2.0.2)\n",
            "Requirement already satisfied: scipy>=0.17.0 in /usr/local/lib/python3.11/dist-packages (from lightfm) (1.15.3)\n",
            "Requirement already satisfied: requests in /usr/local/lib/python3.11/dist-packages (from lightfm) (2.32.3)\n",
            "Requirement already satisfied: scikit-learn in /usr/local/lib/python3.11/dist-packages (from lightfm) (1.6.1)\n",
            "Requirement already satisfied: charset-normalizer<4,>=2 in /usr/local/lib/python3.11/dist-packages (from requests->lightfm) (3.4.2)\n",
            "Requirement already satisfied: idna<4,>=2.5 in /usr/local/lib/python3.11/dist-packages (from requests->lightfm) (3.10)\n",
            "Requirement already satisfied: urllib3<3,>=1.21.1 in /usr/local/lib/python3.11/dist-packages (from requests->lightfm) (2.4.0)\n",
            "Requirement already satisfied: certifi>=2017.4.17 in /usr/local/lib/python3.11/dist-packages (from requests->lightfm) (2025.4.26)\n",
            "Requirement already satisfied: joblib>=1.2.0 in /usr/local/lib/python3.11/dist-packages (from scikit-learn->lightfm) (1.5.0)\n",
            "Requirement already satisfied: threadpoolctl>=3.1.0 in /usr/local/lib/python3.11/dist-packages (from scikit-learn->lightfm) (3.6.0)\n",
            "Building wheels for collected packages: lightfm\n",
            "  Building wheel for lightfm (setup.py) ... \u001b[?25l\u001b[?25hdone\n",
            "  Created wheel for lightfm: filename=lightfm-1.17-cp311-cp311-linux_x86_64.whl size=831162 sha256=573121c935015f920b8888d8c0c311bc6c5d09e1a4c3e7f832399b5798fd7cca\n",
            "  Stored in directory: /root/.cache/pip/wheels/b9/0d/8a/0729d2e6e3ca2a898ba55201f905da7db3f838a33df5b3fcdd\n",
            "Successfully built lightfm\n",
            "Installing collected packages: lightfm\n",
            "Successfully installed lightfm-1.17\n"
          ]
        }
      ],
      "source": [
        "# Import Library\n",
        "import pandas as pd\n",
        "import numpy as np\n",
        "import matplotlib.pyplot as plt\n",
        "import seaborn as sns\n",
        "from sklearn.feature_extraction.text import TfidfVectorizer\n",
        "from sklearn.metrics.pairwise import cosine_similarity\n",
        "\n",
        "!pip install lightfm\n",
        "from lightfm import LightFM\n",
        "from lightfm.data import Dataset"
      ]
    },
    {
      "cell_type": "markdown",
      "source": [
        "## 3. Data Understanding & Loading Dataset\n",
        "\n",
        "Di tahap ini, file data MovieLens 100K (u.data untuk rating dan u.item untuk info film) di-upload dan dimuat ke dalam DataFrame.\n",
        "* Data rating berisi userId, movieId, rating, dan timestamp.\n",
        "* Data film memuat movieId, judul, tanggal rilis, dan genre dengan format one-hot encoding.\n",
        "Setelah dimuat, data ditampilkan untuk verifikasi."
      ],
      "metadata": {
        "id": "VQIpzj0VBf5G"
      }
    },
    {
      "cell_type": "code",
      "source": [
        "# Data Understanding & Loading Dataset\n",
        "from google.colab import files\n",
        "uploaded = files.upload()  # Pilih u.data dan u.item\n",
        "\n",
        "# Load rating data\n",
        "ratings = pd.read_csv('u.data', sep='\\t', names=['userId', 'movieId', 'rating', 'timestamp'])\n",
        "print('Contoh data rating:')\n",
        "print(ratings.head())\n",
        "\n",
        "# Load movie data\n",
        "movie_columns = [\n",
        "    'movieId', 'title', 'release_date', 'video_release_date', 'IMDb_URL',\n",
        "    'unknown', 'Action', 'Adventure', 'Animation', \"Children's\", 'Comedy',\n",
        "    'Crime', 'Documentary', 'Drama', 'Fantasy', 'Film-Noir', 'Horror',\n",
        "    'Musical', 'Mystery', 'Romance', 'Sci-Fi', 'Thriller', 'War', 'Western'\n",
        "]\n",
        "movies = pd.read_csv('u.item', sep='|', encoding='latin-1', names=movie_columns)\n",
        "print('\\nContoh data film:')\n",
        "print(movies[['movieId', 'title']].head())"
      ],
      "metadata": {
        "colab": {
          "base_uri": "https://localhost:8080/",
          "height": 309
        },
        "id": "SdCF4ml0BhIm",
        "outputId": "9ee5ca3f-c9d6-4fe0-c965-1d2f07cbba3b"
      },
      "execution_count": 3,
      "outputs": [
        {
          "output_type": "display_data",
          "data": {
            "text/plain": [
              "<IPython.core.display.HTML object>"
            ],
            "text/html": [
              "\n",
              "     <input type=\"file\" id=\"files-5087b74b-7de1-4978-8d28-2b72579f0dda\" name=\"files[]\" multiple disabled\n",
              "        style=\"border:none\" />\n",
              "     <output id=\"result-5087b74b-7de1-4978-8d28-2b72579f0dda\">\n",
              "      Upload widget is only available when the cell has been executed in the\n",
              "      current browser session. Please rerun this cell to enable.\n",
              "      </output>\n",
              "      <script>// Copyright 2017 Google LLC\n",
              "//\n",
              "// Licensed under the Apache License, Version 2.0 (the \"License\");\n",
              "// you may not use this file except in compliance with the License.\n",
              "// You may obtain a copy of the License at\n",
              "//\n",
              "//      http://www.apache.org/licenses/LICENSE-2.0\n",
              "//\n",
              "// Unless required by applicable law or agreed to in writing, software\n",
              "// distributed under the License is distributed on an \"AS IS\" BASIS,\n",
              "// WITHOUT WARRANTIES OR CONDITIONS OF ANY KIND, either express or implied.\n",
              "// See the License for the specific language governing permissions and\n",
              "// limitations under the License.\n",
              "\n",
              "/**\n",
              " * @fileoverview Helpers for google.colab Python module.\n",
              " */\n",
              "(function(scope) {\n",
              "function span(text, styleAttributes = {}) {\n",
              "  const element = document.createElement('span');\n",
              "  element.textContent = text;\n",
              "  for (const key of Object.keys(styleAttributes)) {\n",
              "    element.style[key] = styleAttributes[key];\n",
              "  }\n",
              "  return element;\n",
              "}\n",
              "\n",
              "// Max number of bytes which will be uploaded at a time.\n",
              "const MAX_PAYLOAD_SIZE = 100 * 1024;\n",
              "\n",
              "function _uploadFiles(inputId, outputId) {\n",
              "  const steps = uploadFilesStep(inputId, outputId);\n",
              "  const outputElement = document.getElementById(outputId);\n",
              "  // Cache steps on the outputElement to make it available for the next call\n",
              "  // to uploadFilesContinue from Python.\n",
              "  outputElement.steps = steps;\n",
              "\n",
              "  return _uploadFilesContinue(outputId);\n",
              "}\n",
              "\n",
              "// This is roughly an async generator (not supported in the browser yet),\n",
              "// where there are multiple asynchronous steps and the Python side is going\n",
              "// to poll for completion of each step.\n",
              "// This uses a Promise to block the python side on completion of each step,\n",
              "// then passes the result of the previous step as the input to the next step.\n",
              "function _uploadFilesContinue(outputId) {\n",
              "  const outputElement = document.getElementById(outputId);\n",
              "  const steps = outputElement.steps;\n",
              "\n",
              "  const next = steps.next(outputElement.lastPromiseValue);\n",
              "  return Promise.resolve(next.value.promise).then((value) => {\n",
              "    // Cache the last promise value to make it available to the next\n",
              "    // step of the generator.\n",
              "    outputElement.lastPromiseValue = value;\n",
              "    return next.value.response;\n",
              "  });\n",
              "}\n",
              "\n",
              "/**\n",
              " * Generator function which is called between each async step of the upload\n",
              " * process.\n",
              " * @param {string} inputId Element ID of the input file picker element.\n",
              " * @param {string} outputId Element ID of the output display.\n",
              " * @return {!Iterable<!Object>} Iterable of next steps.\n",
              " */\n",
              "function* uploadFilesStep(inputId, outputId) {\n",
              "  const inputElement = document.getElementById(inputId);\n",
              "  inputElement.disabled = false;\n",
              "\n",
              "  const outputElement = document.getElementById(outputId);\n",
              "  outputElement.innerHTML = '';\n",
              "\n",
              "  const pickedPromise = new Promise((resolve) => {\n",
              "    inputElement.addEventListener('change', (e) => {\n",
              "      resolve(e.target.files);\n",
              "    });\n",
              "  });\n",
              "\n",
              "  const cancel = document.createElement('button');\n",
              "  inputElement.parentElement.appendChild(cancel);\n",
              "  cancel.textContent = 'Cancel upload';\n",
              "  const cancelPromise = new Promise((resolve) => {\n",
              "    cancel.onclick = () => {\n",
              "      resolve(null);\n",
              "    };\n",
              "  });\n",
              "\n",
              "  // Wait for the user to pick the files.\n",
              "  const files = yield {\n",
              "    promise: Promise.race([pickedPromise, cancelPromise]),\n",
              "    response: {\n",
              "      action: 'starting',\n",
              "    }\n",
              "  };\n",
              "\n",
              "  cancel.remove();\n",
              "\n",
              "  // Disable the input element since further picks are not allowed.\n",
              "  inputElement.disabled = true;\n",
              "\n",
              "  if (!files) {\n",
              "    return {\n",
              "      response: {\n",
              "        action: 'complete',\n",
              "      }\n",
              "    };\n",
              "  }\n",
              "\n",
              "  for (const file of files) {\n",
              "    const li = document.createElement('li');\n",
              "    li.append(span(file.name, {fontWeight: 'bold'}));\n",
              "    li.append(span(\n",
              "        `(${file.type || 'n/a'}) - ${file.size} bytes, ` +\n",
              "        `last modified: ${\n",
              "            file.lastModifiedDate ? file.lastModifiedDate.toLocaleDateString() :\n",
              "                                    'n/a'} - `));\n",
              "    const percent = span('0% done');\n",
              "    li.appendChild(percent);\n",
              "\n",
              "    outputElement.appendChild(li);\n",
              "\n",
              "    const fileDataPromise = new Promise((resolve) => {\n",
              "      const reader = new FileReader();\n",
              "      reader.onload = (e) => {\n",
              "        resolve(e.target.result);\n",
              "      };\n",
              "      reader.readAsArrayBuffer(file);\n",
              "    });\n",
              "    // Wait for the data to be ready.\n",
              "    let fileData = yield {\n",
              "      promise: fileDataPromise,\n",
              "      response: {\n",
              "        action: 'continue',\n",
              "      }\n",
              "    };\n",
              "\n",
              "    // Use a chunked sending to avoid message size limits. See b/62115660.\n",
              "    let position = 0;\n",
              "    do {\n",
              "      const length = Math.min(fileData.byteLength - position, MAX_PAYLOAD_SIZE);\n",
              "      const chunk = new Uint8Array(fileData, position, length);\n",
              "      position += length;\n",
              "\n",
              "      const base64 = btoa(String.fromCharCode.apply(null, chunk));\n",
              "      yield {\n",
              "        response: {\n",
              "          action: 'append',\n",
              "          file: file.name,\n",
              "          data: base64,\n",
              "        },\n",
              "      };\n",
              "\n",
              "      let percentDone = fileData.byteLength === 0 ?\n",
              "          100 :\n",
              "          Math.round((position / fileData.byteLength) * 100);\n",
              "      percent.textContent = `${percentDone}% done`;\n",
              "\n",
              "    } while (position < fileData.byteLength);\n",
              "  }\n",
              "\n",
              "  // All done.\n",
              "  yield {\n",
              "    response: {\n",
              "      action: 'complete',\n",
              "    }\n",
              "  };\n",
              "}\n",
              "\n",
              "scope.google = scope.google || {};\n",
              "scope.google.colab = scope.google.colab || {};\n",
              "scope.google.colab._files = {\n",
              "  _uploadFiles,\n",
              "  _uploadFilesContinue,\n",
              "};\n",
              "})(self);\n",
              "</script> "
            ]
          },
          "metadata": {}
        },
        {
          "output_type": "stream",
          "name": "stdout",
          "text": [
            "Contoh data rating:\n",
            "   userId  movieId  rating  timestamp\n",
            "0     196      242       3  881250949\n",
            "1     186      302       3  891717742\n",
            "2      22      377       1  878887116\n",
            "3     244       51       2  880606923\n",
            "4     166      346       1  886397596\n",
            "\n",
            "Contoh data film:\n",
            "   movieId              title\n",
            "0        1   Toy Story (1995)\n",
            "1        2   GoldenEye (1995)\n",
            "2        3  Four Rooms (1995)\n",
            "3        4  Get Shorty (1995)\n",
            "4        5     Copycat (1995)\n"
          ]
        }
      ]
    },
    {
      "cell_type": "code",
      "source": [
        "# Cek kondisi data (missing value dan duplikat)\n",
        "print(\"\\nMissing values pada ratings:\\n\", ratings.isnull().sum())\n",
        "print(\"Duplikat pada ratings:\", ratings.duplicated().sum())\n",
        "print(\"Missing values pada movies:\\n\", movies.isnull().sum())\n",
        "print(\"Duplikat pada movies:\", movies.duplicated().sum())"
      ],
      "metadata": {
        "colab": {
          "base_uri": "https://localhost:8080/"
        },
        "id": "D94hTWwjBv4l",
        "outputId": "17400bdd-a2b7-4ff4-a488-b53628665a5c"
      },
      "execution_count": 4,
      "outputs": [
        {
          "output_type": "stream",
          "name": "stdout",
          "text": [
            "\n",
            "Missing values pada ratings:\n",
            " userId       0\n",
            "movieId      0\n",
            "rating       0\n",
            "timestamp    0\n",
            "dtype: int64\n",
            "Duplikat pada ratings: 0\n",
            "Missing values pada movies:\n",
            " movieId                  0\n",
            "title                    0\n",
            "release_date             1\n",
            "video_release_date    1682\n",
            "IMDb_URL                 3\n",
            "unknown                  0\n",
            "Action                   0\n",
            "Adventure                0\n",
            "Animation                0\n",
            "Children's               0\n",
            "Comedy                   0\n",
            "Crime                    0\n",
            "Documentary              0\n",
            "Drama                    0\n",
            "Fantasy                  0\n",
            "Film-Noir                0\n",
            "Horror                   0\n",
            "Musical                  0\n",
            "Mystery                  0\n",
            "Romance                  0\n",
            "Sci-Fi                   0\n",
            "Thriller                 0\n",
            "War                      0\n",
            "Western                  0\n",
            "dtype: int64\n",
            "Duplikat pada movies: 0\n"
          ]
        }
      ]
    },
    {
      "cell_type": "markdown",
      "source": [
        "### Membuat Kolom 'genres' Gabungan\n",
        "\n",
        "Karena genre pada dataset menggunakan one-hot encoding (setiap genre berupa kolom terpisah dengan nilai 0/1), kita menggabungkannya ke satu kolom 'genres' agar lebih mudah digunakan pada modeling berbasis konten.\n"
      ],
      "metadata": {
        "id": "9JAk-sV6B06X"
      }
    },
    {
      "cell_type": "code",
      "source": [
        "# Membuat kolom 'genres' gabungan\n",
        "genre_cols = [\n",
        "    'unknown', 'Action', 'Adventure', 'Animation', \"Children's\", 'Comedy',\n",
        "    'Crime', 'Documentary', 'Drama', 'Fantasy', 'Film-Noir', 'Horror',\n",
        "    'Musical', 'Mystery', 'Romance', 'Sci-Fi', 'Thriller', 'War', 'Western'\n",
        "]\n",
        "\n",
        "def combine_genres(row):\n",
        "    return '|'.join([g for g in genre_cols if row[g] == 1])\n",
        "\n",
        "movies['genres'] = movies[genre_cols].apply(combine_genres, axis=1)\n",
        "print(movies[['title', 'genres']].head())\n"
      ],
      "metadata": {
        "colab": {
          "base_uri": "https://localhost:8080/"
        },
        "id": "8aAaNpaHB1p7",
        "outputId": "778c1918-1f81-4d86-c026-f990ea8979bb"
      },
      "execution_count": 5,
      "outputs": [
        {
          "output_type": "stream",
          "name": "stdout",
          "text": [
            "               title                       genres\n",
            "0   Toy Story (1995)  Animation|Children's|Comedy\n",
            "1   GoldenEye (1995)    Action|Adventure|Thriller\n",
            "2  Four Rooms (1995)                     Thriller\n",
            "3  Get Shorty (1995)          Action|Comedy|Drama\n",
            "4     Copycat (1995)         Crime|Drama|Thriller\n"
          ]
        }
      ]
    },
    {
      "cell_type": "markdown",
      "source": [
        "### Gabung Data Rating dan Movie\n",
        "Data rating dan movie digabung berdasarkan movieId agar setiap baris rating memuat judul film dan genre-nya. Data ini menjadi dasar untuk eksplorasi dan pemodelan."
      ],
      "metadata": {
        "id": "n_uq4F2QCPJ_"
      }
    },
    {
      "cell_type": "code",
      "source": [
        "# Gabung data rating dan movie\n",
        "df = ratings.merge(movies[['movieId', 'title', 'genres']], on='movieId')\n",
        "print(df.head())"
      ],
      "metadata": {
        "colab": {
          "base_uri": "https://localhost:8080/"
        },
        "id": "Op-lijOCCSvQ",
        "outputId": "20afe14a-bf56-461d-dc40-d7b2bb018401"
      },
      "execution_count": 6,
      "outputs": [
        {
          "output_type": "stream",
          "name": "stdout",
          "text": [
            "   userId  movieId  rating  timestamp                       title  \\\n",
            "0     196      242       3  881250949                Kolya (1996)   \n",
            "1     186      302       3  891717742    L.A. Confidential (1997)   \n",
            "2      22      377       1  878887116         Heavyweights (1994)   \n",
            "3     244       51       2  880606923  Legends of the Fall (1994)   \n",
            "4     166      346       1  886397596         Jackie Brown (1997)   \n",
            "\n",
            "                             genres  \n",
            "0                            Comedy  \n",
            "1  Crime|Film-Noir|Mystery|Thriller  \n",
            "2                 Children's|Comedy  \n",
            "3         Drama|Romance|War|Western  \n",
            "4                       Crime|Drama  \n"
          ]
        }
      ]
    },
    {
      "cell_type": "markdown",
      "source": [
        "### Eksplorasi Data\n",
        "\n",
        "Eksplorasi awal dilakukan untuk mengetahui jumlah user unik, jumlah film, jumlah rating, distribusi rating, serta genre film paling populer.\n",
        "\n",
        "* Distribusi rating membantu memahami pola rating user.\n",
        "* Analisis genre populer dapat memberikan insight tentang minat umum penonton."
      ],
      "metadata": {
        "id": "uOEcUGmgCZrD"
      }
    },
    {
      "cell_type": "code",
      "source": [
        "# Eksplorasi Data\n",
        "print(f\"Jumlah user unik: {df['userId'].nunique()}\")\n",
        "print(f\"Jumlah film unik: {df['movieId'].nunique()}\")\n",
        "print(f\"Jumlah rating: {len(df)}\")"
      ],
      "metadata": {
        "colab": {
          "base_uri": "https://localhost:8080/"
        },
        "id": "2w8fC3IyCi8c",
        "outputId": "716391c5-8970-48d2-9876-e7207cabde3a"
      },
      "execution_count": 7,
      "outputs": [
        {
          "output_type": "stream",
          "name": "stdout",
          "text": [
            "Jumlah user unik: 943\n",
            "Jumlah film unik: 1682\n",
            "Jumlah rating: 100000\n"
          ]
        }
      ]
    },
    {
      "cell_type": "code",
      "source": [
        "# Distribusi rating\n",
        "sns.countplot(x='rating', data=df)\n",
        "plt.title('Distribusi Rating Film')\n",
        "plt.show()"
      ],
      "metadata": {
        "colab": {
          "base_uri": "https://localhost:8080/",
          "height": 472
        },
        "id": "cQRz5G8oCkhm",
        "outputId": "b5ce1676-aa1f-46b2-a405-6cef725a982e"
      },
      "execution_count": 8,
      "outputs": [
        {
          "output_type": "display_data",
          "data": {
            "text/plain": [
              "<Figure size 640x480 with 1 Axes>"
            ],
            "image/png": "[encoded data removed]"
          },
          "metadata": {}
        }
      ]
    },
    {
      "cell_type": "code",
      "source": [
        "# Genre terpopuler\n",
        "from collections import Counter\n",
        "all_genres = '|'.join(movies['genres']).split('|')\n",
        "genre_counts = Counter(all_genres)\n",
        "plt.bar(*zip(*genre_counts.most_common(10)))\n",
        "plt.title('Genre Film Terpopuler')\n",
        "plt.xticks(rotation=45)\n",
        "plt.show()"
      ],
      "metadata": {
        "colab": {
          "base_uri": "https://localhost:8080/",
          "height": 499
        },
        "id": "J0vZbPFxCpxD",
        "outputId": "9192c8cd-159e-4f1e-8a25-5a38e2733e25"
      },
      "execution_count": 9,
      "outputs": [
        {
          "output_type": "display_data",
          "data": {
            "text/plain": [
              "<Figure size 640x480 with 1 Axes>"
            ],
            "image/png": "[encoded data removed]"
          },
          "metadata": {}
        }
      ]
    },
    {
      "cell_type": "markdown",
      "source": [
        "## 4. Modeling\n",
        "\n",
        "Model Content-based Filtering dibangun menggunakan TF-IDF pada kolom genre, kemudian dihitung cosine similarity antar film. Fungsi rekomendasi akan mengambil film yang memiliki kemiripan genre tertinggi terhadap film yang dipilih user.\n"
      ],
      "metadata": {
        "id": "DVwvETI-C2jV"
      }
    },
    {
      "cell_type": "code",
      "source": [
        "# Content-based Filtering\n",
        "tfidf = TfidfVectorizer()\n",
        "tfidf_matrix = tfidf.fit_transform(movies['genres'])\n",
        "cosine_sim = cosine_similarity(tfidf_matrix, tfidf_matrix)\n",
        "\n",
        "def content_based_recommendations(title, top_n=5):\n",
        "    idx = movies[movies['title'].str.lower() == title.lower()].index\n",
        "    if len(idx) == 0:\n",
        "        return 'Film tidak ditemukan.'\n",
        "    idx = idx[0]\n",
        "    sim_scores = list(enumerate(cosine_sim[idx]))\n",
        "    sim_scores = sorted(sim_scores, key=lambda x: x[1], reverse=True)\n",
        "    sim_scores = sim_scores[1:top_n+1]\n",
        "    movie_indices = [i[0] for i in sim_scores]\n",
        "    return movies.iloc[movie_indices][['title', 'genres']]\n",
        "\n",
        "# Contoh rekomendasi genre mirip dengan \"Toy Story (1995)\"\n",
        "print(\"\\nRekomendasi Content-Based untuk Toy Story (1995):\")\n",
        "print(content_based_recommendations(\"Toy Story (1995)\"))"
      ],
      "metadata": {
        "colab": {
          "base_uri": "https://localhost:8080/"
        },
        "id": "wBdukyn-CyOl",
        "outputId": "bad622bb-c2eb-476b-87ec-882e95f791fb"
      },
      "execution_count": 10,
      "outputs": [
        {
          "output_type": "stream",
          "name": "stdout",
          "text": [
            "\n",
            "Rekomendasi Content-Based untuk Toy Story (1995):\n",
            "                                      title                       genres\n",
            "421  Aladdin and the King of Thieves (1996)  Animation|Children's|Comedy\n",
            "101                  Aristocats, The (1970)         Animation|Children's\n",
            "403                        Pinocchio (1940)         Animation|Children's\n",
            "624          Sword in the Stone, The (1963)         Animation|Children's\n",
            "945           Fox and the Hound, The (1981)         Animation|Children's\n"
          ]
        }
      ]
    },
    {
      "cell_type": "markdown",
      "source": [
        "### Collaborative Filtering dengan LightFM\n",
        "Model Collaborative Filtering dibuat menggunakan library LightFM, yang mengolah data interaksi user-film untuk mempelajari pola preferensi. Data interaksi dipersiapkan lalu model dilatih dengan algoritma WARP. Fungsi rekomendasi mengembalikan daftar film yang diprediksi paling disukai user."
      ],
      "metadata": {
        "id": "DN24CNfiDI84"
      }
    },
    {
      "cell_type": "code",
      "source": [
        "# Collaborative Filtering dengan LightFM\n",
        "dataset = Dataset()\n",
        "dataset.fit((x for x in ratings['userId']), (x for x in ratings['movieId']))\n",
        "(interactions, weights) = dataset.build_interactions(\n",
        "    [(row['userId'], row['movieId'], row['rating']) for idx, row in ratings.iterrows()]\n",
        ")\n",
        "\n",
        "model = LightFM(loss='warp')\n",
        "model.fit(interactions, epochs=10, num_threads=2)"
      ],
      "metadata": {
        "colab": {
          "base_uri": "https://localhost:8080/"
        },
        "id": "IkSOZsQODFcM",
        "outputId": "66752d7c-99e1-4863-9228-276ef51f988b"
      },
      "execution_count": 11,
      "outputs": [
        {
          "output_type": "execute_result",
          "data": {
            "text/plain": [
              "<lightfm.lightfm.LightFM at 0x796ceca5bf10>"
            ]
          },
          "metadata": {},
          "execution_count": 11
        }
      ]
    },
    {
      "cell_type": "markdown",
      "source": [
        "#### Fungsi rekomendasi film untuk user dengan collaborative filtering LightFM\n",
        "Fungsi ini memberikan daftar film rekomendasi untuk user tertentu berdasarkan hasil prediksi model collaborative filtering. Hasil rekomendasi dapat digunakan untuk melihat kualitas saran yang diberikan sistem."
      ],
      "metadata": {
        "id": "7gUwPNzqDX8V"
      }
    },
    {
      "cell_type": "code",
      "source": [
        "def get_collab_recommendations(user_id, top_n=5):\n",
        "    user_id = int(user_id)\n",
        "    n_items = interactions.shape[1]\n",
        "    scores = model.predict(user_id, np.arange(n_items))\n",
        "    top_items = np.argsort(-scores)[:top_n]\n",
        "    movie_ids = [list(dataset.mapping()[2].keys())[list(dataset.mapping()[2].values()).index(i)] for i in top_items]\n",
        "    return movies[movies['movieId'].isin(movie_ids)][['title', 'genres']]\n",
        "\n",
        "print(\"\\nRekomendasi Collaborative Filtering untuk user ID 1:\")\n",
        "print(get_collab_recommendations(1))"
      ],
      "metadata": {
        "colab": {
          "base_uri": "https://localhost:8080/"
        },
        "id": "CGQX0MeBDcmA",
        "outputId": "eda2de60-76fb-488b-fea8-0aacc15bd435"
      },
      "execution_count": 12,
      "outputs": [
        {
          "output_type": "stream",
          "name": "stdout",
          "text": [
            "\n",
            "Rekomendasi Collaborative Filtering untuk user ID 1:\n",
            "                             title                     genres\n",
            "116               Rock, The (1996)  Action|Adventure|Thriller\n",
            "120  Independence Day (ID4) (1996)          Action|Sci-Fi|War\n",
            "257                 Contact (1997)               Drama|Sci-Fi\n",
            "287                  Scream (1996)            Horror|Thriller\n",
            "293               Liar Liar (1997)                     Comedy\n"
          ]
        }
      ]
    },
    {
      "cell_type": "markdown",
      "source": [
        "## 5. Evaluation\n",
        "\n",
        "Pada tahap ini, hasil rekomendasi untuk beberapa user dan judul film divisualisasikan dan ditampilkan untuk dievaluasi secara kualitatif. Tujuannya untuk melihat apakah rekomendasi tampak masuk akal dan relevan.\n",
        "\n",
        "\n",
        "\n",
        "\n"
      ],
      "metadata": {
        "id": "C3kMb8rYEH23"
      }
    },
    {
      "cell_type": "markdown",
      "source": [
        "# Hit@5\n",
        "Hit@5: Mengecek apakah minimal 1 film relevan muncul pada top-5 rekomendasi."
      ],
      "metadata": {
        "id": "i8xzR-x6i9TN"
      }
    },
    {
      "cell_type": "code",
      "source": [
        "def hit_at_k(recommended_ids, relevant_ids, k=5):\n",
        "    hit = any(i in relevant_ids for i in recommended_ids[:k])\n",
        "    return int(hit)\n",
        "\n",
        "user_id = 1\n",
        "user_rated = df[(df['userId'] == user_id) & (df['rating'] >= 4)]['movieId'].tolist()\n",
        "recommended = get_collab_recommendations(user_id, top_n=5)\n",
        "recommended_ids = movies[movies['title'].isin(recommended['title'])]['movieId'].tolist()\n",
        "\n",
        "print(f'Collaborative Filtering - Hit@5 untuk user {user_id}: {hit_at_k(recommended_ids, user_rated, 5)}')\n"
      ],
      "metadata": {
        "colab": {
          "base_uri": "https://localhost:8080/"
        },
        "id": "Lqea58vsfwJr",
        "outputId": "664535c0-9bbb-44c8-8ea6-414ba37e5c5d"
      },
      "execution_count": 17,
      "outputs": [
        {
          "output_type": "stream",
          "name": "stdout",
          "text": [
            "Collaborative Filtering - Hit@5 untuk user 1: 1\n"
          ]
        }
      ]
    },
    {
      "cell_type": "markdown",
      "source": [
        "# Recall@5\n",
        "Recall@5: Mengukur proporsi film relevan yang berhasil direkomendasikan pada top-5 rekomendasi."
      ],
      "metadata": {
        "id": "9sckoY6_jC2Z"
      }
    },
    {
      "cell_type": "code",
      "source": [
        "def recall_at_k(recommended_ids, relevant_ids, k=5):\n",
        "    if len(relevant_ids) == 0:\n",
        "        return 0.0\n",
        "    hit_count = len(set(recommended_ids[:k]) & set(relevant_ids))\n",
        "    return hit_count / len(relevant_ids)\n",
        "\n",
        "print(f'Collaborative Filtering - Recall@5: {recall_at_k(recommended_ids, user_rated, 5):.2f}')\n"
      ],
      "metadata": {
        "colab": {
          "base_uri": "https://localhost:8080/"
        },
        "id": "ncMzaeNKfyEO",
        "outputId": "a74c9644-4037-4bd3-cf64-d95d41117961"
      },
      "execution_count": 18,
      "outputs": [
        {
          "output_type": "stream",
          "name": "stdout",
          "text": [
            "Collaborative Filtering - Recall@5: 0.01\n"
          ]
        }
      ]
    },
    {
      "cell_type": "markdown",
      "source": [
        "# Precision@5\n",
        "Precision@5: Mengukur proporsi item pada top-5 rekomendasi yang benar-benar relevan."
      ],
      "metadata": {
        "id": "hCbbK6B7jHBx"
      }
    },
    {
      "cell_type": "code",
      "source": [
        "precision_at_5 = len(set(user_rated) & set(recommended_ids)) / 5\n",
        "print(f'Collaborative Filtering - Precision@5 untuk user {user_id}: {precision_at_5:.2f}')"
      ],
      "metadata": {
        "colab": {
          "base_uri": "https://localhost:8080/"
        },
        "id": "Z45HGjSGfyo8",
        "outputId": "ec287466-326a-4c5b-bb8e-be134032cf73"
      },
      "execution_count": 19,
      "outputs": [
        {
          "output_type": "stream",
          "name": "stdout",
          "text": [
            "Collaborative Filtering - Precision@5 untuk user 1: 0.40\n"
          ]
        }
      ]
    },
    {
      "cell_type": "markdown",
      "source": [
        "# MAP@5\n",
        "MAP@5 (Mean Average Precision@5): Menghitung rata-rata precision pada setiap posisi hingga 5 di daftar rekomendasi."
      ],
      "metadata": {
        "id": "Ma4_Q2dGjKaJ"
      }
    },
    {
      "cell_type": "code",
      "source": [
        "def apk(actual, predicted, k=5):\n",
        "    if len(predicted) > k:\n",
        "        predicted = predicted[:k]\n",
        "    score = 0.0\n",
        "    num_hits = 0.0\n",
        "    for i, p in enumerate(predicted):\n",
        "        if p in actual and p not in predicted[:i]:\n",
        "            num_hits += 1.0\n",
        "            score += num_hits / (i + 1.0)\n",
        "    return score / min(len(actual), k) if actual else 0.0\n",
        "\n",
        "print(f'Collaborative Filtering - MAP@5: {apk(user_rated, recommended_ids, 5):.2f}')"
      ],
      "metadata": {
        "colab": {
          "base_uri": "https://localhost:8080/"
        },
        "id": "zmk_Vu3zf22B",
        "outputId": "ec41dc0d-119c-49ed-a370-4aa1ab6dd080"
      },
      "execution_count": 20,
      "outputs": [
        {
          "output_type": "stream",
          "name": "stdout",
          "text": [
            "Collaborative Filtering - MAP@5: 0.23\n"
          ]
        }
      ]
    },
    {
      "cell_type": "markdown",
      "source": [
        "# RMSE\n",
        "RMSE (Root Mean Squared Error): Mengukur rata-rata kesalahan prediksi rating oleh model terhadap data aktual."
      ],
      "metadata": {
        "id": "q86IsnjdjNuc"
      }
    },
    {
      "cell_type": "code",
      "source": [
        "from sklearn.metrics import mean_squared_error\n",
        "user_interactions = interactions.tocsr()[user_id]\n",
        "known_items = user_interactions.indices\n",
        "pred_ratings = model.predict(user_id, known_items)\n",
        "actual_ratings = user_interactions.data\n",
        "if len(actual_ratings) > 0:\n",
        "    rmse = np.sqrt(mean_squared_error(actual_ratings, pred_ratings))\n",
        "    print(f'Collaborative Filtering - RMSE untuk user {user_id}: {rmse:.2f}')\n",
        "else:\n",
        "    print('User belum punya data rating untuk evaluasi RMSE.')"
      ],
      "metadata": {
        "colab": {
          "base_uri": "https://localhost:8080/"
        },
        "id": "9wzHNctSf3x1",
        "outputId": "f321b0bd-c289-41b6-ac2e-a3dc7cc0ca51"
      },
      "execution_count": 21,
      "outputs": [
        {
          "output_type": "stream",
          "name": "stdout",
          "text": [
            "Collaborative Filtering - RMSE untuk user 1: 2.83\n"
          ]
        }
      ]
    },
    {
      "cell_type": "markdown",
      "source": [
        "# Coverage\n",
        "Coverage: Mengukur persentase item unik di dataset yang berhasil direkomendasikan kepada seluruh user."
      ],
      "metadata": {
        "id": "VQLggytojQeA"
      }
    },
    {
      "cell_type": "code",
      "source": [
        "all_recommended = set()\n",
        "for uid in range(1, 11):\n",
        "    recommended = get_collab_recommendations(uid, top_n=5)\n",
        "    rec_ids = movies[movies['title'].isin(recommended['title'])]['movieId'].tolist()\n",
        "    all_recommended.update(rec_ids)\n",
        "coverage = len(all_recommended) / movies['movieId'].nunique()\n",
        "print(f'Collaborative Filtering - Coverage 10 user: {coverage:.2%}')"
      ],
      "metadata": {
        "colab": {
          "base_uri": "https://localhost:8080/"
        },
        "id": "6Fo8rAWVf8Aq",
        "outputId": "7fe68d37-9986-43d8-fd48-a53f52efccbe"
      },
      "execution_count": 22,
      "outputs": [
        {
          "output_type": "stream",
          "name": "stdout",
          "text": [
            "Collaborative Filtering - Coverage 10 user: 1.25%\n"
          ]
        }
      ]
    },
    {
      "cell_type": "markdown",
      "source": [
        "# Precision@5 Content-Based Filtering\n",
        "Precision@5: Mengukur proporsi film dengan genre identik di antara 5 rekomendasi teratas pada Content-Based Filtering."
      ],
      "metadata": {
        "id": "tMsIPYIgjTgn"
      }
    },
    {
      "cell_type": "code",
      "source": [
        "def content_based_precision_at_k(input_title, k=5):\n",
        "    input_genre = movies.loc[movies['title'] == input_title, 'genres'].values[0]\n",
        "    ground_truth = movies[(movies['genres'] == input_genre) & (movies['title'] != input_title)].title.tolist()\n",
        "    rekomendasi = content_based_recommendations(input_title, top_n=k)\n",
        "    if isinstance(rekomendasi, str): return 0\n",
        "    recommended_titles = rekomendasi['title'].tolist()\n",
        "    benar = len(set(recommended_titles) & set(ground_truth))\n",
        "    return benar / k if k > 0 else 0\n",
        "\n",
        "title_test = \"Toy Story (1995)\"\n",
        "print(f'Content-Based Filtering - Precision@5 untuk {title_test}: {content_based_precision_at_k(title_test, 5):.2f}')"
      ],
      "metadata": {
        "colab": {
          "base_uri": "https://localhost:8080/"
        },
        "id": "pQpUn0D9f_kY",
        "outputId": "1ce85fce-8e90-462f-954b-b81d18110362"
      },
      "execution_count": 23,
      "outputs": [
        {
          "output_type": "stream",
          "name": "stdout",
          "text": [
            "Content-Based Filtering - Precision@5 untuk Toy Story (1995): 0.20\n"
          ]
        }
      ]
    },
    {
      "cell_type": "markdown",
      "source": [
        "# Recall@5 Content-Based Filtering\n",
        "Recall@5: Mengukur proporsi film dengan genre identik dari seluruh ground truth yang berhasil direkomendasikan pada Content-Based Filtering."
      ],
      "metadata": {
        "id": "Ct_zrOfrjav4"
      }
    },
    {
      "cell_type": "code",
      "source": [
        "def content_based_recall_at_k(input_title, k=5):\n",
        "    input_genre = movies.loc[movies['title'] == input_title, 'genres'].values[0]\n",
        "    ground_truth = movies[(movies['genres'] == input_genre) & (movies['title'] != input_title)].title.tolist()\n",
        "    if len(ground_truth) == 0: return 0\n",
        "    rekomendasi = content_based_recommendations(input_title, top_n=k)\n",
        "    if isinstance(rekomendasi, str): return 0\n",
        "    recommended_titles = rekomendasi['title'].tolist()\n",
        "    benar = len(set(recommended_titles) & set(ground_truth))\n",
        "    return benar / len(ground_truth)\n",
        "\n",
        "print(f'Content-Based Filtering - Recall@5 untuk {title_test}: {content_based_recall_at_k(title_test, 5):.2f}')"
      ],
      "metadata": {
        "colab": {
          "base_uri": "https://localhost:8080/"
        },
        "id": "76I1nOwngAe3",
        "outputId": "7d7d2899-7e3f-47cd-f4cd-81a420ee6d26"
      },
      "execution_count": 24,
      "outputs": [
        {
          "output_type": "stream",
          "name": "stdout",
          "text": [
            "Content-Based Filtering - Recall@5 untuk Toy Story (1995): 1.00\n"
          ]
        }
      ]
    },
    {
      "cell_type": "markdown",
      "source": [
        "# Hasil evaluasi model:\n",
        "\n",
        "* Hit@5 untuk user 1 adalah 1, artinya minimal satu film relevan berhasil direkomendasikan dalam daftar Top-5 rekomendasi. Ini menunjukkan sistem cukup efektif dalam menempatkan film yang disukai pengguna di posisi atas.\n",
        "\n",
        "* Recall@5 untuk user 1 adalah 0.01, yang berarti hanya 1% dari seluruh film relevan untuk user tersebut yang berhasil muncul dalam rekomendasi. Hal ini mengindikasikan bahwa cakupan film relevan yang direkomendasikan masih sangat terbatas.\n",
        "\n",
        "* Precision@5 untuk user 1 adalah 0.40, menunjukkan bahwa sekitar 40% dari 5 film teratas yang direkomendasikan memang benar-benar relevan atau disukai oleh pengguna.\n",
        "\n",
        "* MAP@5 (Mean Average Precision) untuk user 1 adalah 0.23, yang menandakan rata-rata presisi pada posisi Top-5 rekomendasi adalah 23%, mengindikasikan kualitas rata-rata posisi film relevan dalam daftar rekomendasi.\n",
        "\n",
        "* RMSE untuk user 1 sebesar 2.83, yang mengartikan prediksi rating model memiliki rata-rata kesalahan sebesar 2.83 dari nilai rating asli pengguna pada skala 1-5. Nilai ini menunjukkan ada ruang untuk peningkatan akurasi model.\n",
        "\n",
        "* Coverage untuk 10 user pertama adalah 1.25%, yang berarti model hanya merekomendasikan sekitar 1.25% dari total koleksi film kepada 10 pengguna tersebut. Hal ini menunjukkan bahwa keberagaman rekomendasi masih sangat rendah dan model cenderung merekomendasikan film yang sama.\n",
        "\n"
      ],
      "metadata": {
        "id": "0ct98svCkFsh"
      }
    },
    {
      "cell_type": "markdown",
      "source": [
        "# Insight:\n",
        "\n",
        "Hasil evaluasi ini menunjukkan bahwa sistem rekomendasi mampu memberikan minimal satu rekomendasi yang relevan di posisi atas daftar, namun masih terbatas dalam hal cakupan film relevan dan keberagaman rekomendasi."
      ],
      "metadata": {
        "id": "beFxxxsMkJGr"
      }
    }
  ]
}